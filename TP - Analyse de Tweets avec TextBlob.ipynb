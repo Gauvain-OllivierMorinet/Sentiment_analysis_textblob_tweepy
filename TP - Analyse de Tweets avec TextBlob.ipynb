{
 "cells": [
  {
   "cell_type": "markdown",
   "metadata": {},
   "source": [
    "# TP : Traitement Automatisé du Langage avec Textblob et Tweepy\n",
    "\n",
    "## Analyse de sentiments et traduction automatique\n",
    "\n",
    "Afin d'obtenir facilement un dataset varié, nous allons récupérer quelques series de Tweets à traiter. Nous utiliserons l'API Tweepy et sauvegarderons un dataset au format json."
   ]
  },
  {
   "cell_type": "markdown",
   "metadata": {},
   "source": [
    "### I) Tweepy\n",
    "\n",
    "    Utiliser Tweepy nécéssite de créer un compte twitter et d'enregistrer une application. De nombreux tutos sont disponibles sur internet, aussi ce tutoriel considère que les étapes préliminaires ont été éffectuées\n",
    "\n",
    "#### A) Préparation de Tweepy\n",
    "\n",
    "On commence par effectuer les imports dont nous aurons besoin concernant Tweepy :"
   ]
  },
  {
   "cell_type": "code",
   "execution_count": 64,
   "metadata": {},
   "outputs": [],
   "source": [
    "import tweepy\n",
    "import json\n",
    "import codecs\n",
    "import time"
   ]
  },
  {
   "cell_type": "markdown",
   "metadata": {},
   "source": [
    "Il nous faut enssuite renseigner les informations d'accès à l'API Twitter :\n",
    "\n",
    "(Je vous laisse le soin de rentrer vos propres clefs)"
   ]
  },
  {
   "cell_type": "code",
   "execution_count": 65,
   "metadata": {},
   "outputs": [],
   "source": [
    "api_key = \"YOUR SECRET KEY\"\n",
    "api_key_secret = \"YOUR SECRET KEY\"\n",
    "access_token = \"YOUR ACCES TOKEN\"\n",
    "access_token_secret = \"YOUR ACCES TOKEN\""
   ]
  },
  {
   "cell_type": "markdown",
   "metadata": {},
   "source": [
    "La fonction OAuthHandler du paquet tweepy est utilisée avec la clef d'API et sa clef secrete pour obtenir l'objet OAuth.\n",
    "\n",
    "On utilise ensuite la fonction <em>set_access_token</em> pour renseigner l'access_token et son secret.\n",
    "\n",
    "Et enfin on utilise la fonction <em>API</em> de tweepy pour se connecter et obtenir un objet API."
   ]
  },
  {
   "cell_type": "code",
   "execution_count": 66,
   "metadata": {},
   "outputs": [],
   "source": [
    "# Authentication\n",
    "auth = tweepy.OAuthHandler(api_key, api_key_secret)\n",
    "auth.set_access_token(access_token, access_token_secret)\n",
    "\n",
    "# Retrieving API\n",
    "api = tweepy.API(auth)"
   ]
  },
  {
   "cell_type": "markdown",
   "metadata": {},
   "source": [
    "Voici comment vérifier les informations et droit de l'utilisateur avec lequel nous nous sommes connecté"
   ]
  },
  {
   "cell_type": "code",
   "execution_count": 67,
   "metadata": {},
   "outputs": [
    {
     "name": "stdout",
     "output_type": "stream",
     "text": [
      "OsamTek\n"
     ]
    }
   ],
   "source": [
    "user = api.verify_credentials()\n",
    "print(user.screen_name)"
   ]
  },
  {
   "cell_type": "markdown",
   "metadata": {},
   "source": [
    "On peut itérer à travers la timeline de l'utilisateur avec la méthode <em>user_timeline</em>. On spécifie le nom de l'utilisateur cible grace à l'argument <em>screen_name</em>. L'argument <em>count</em> permet de spécifier le nombre de tweets a récupérer. Le nombre maximum de tweets par requête est de 208 au moment où j'écrit ces lignes.\n",
    "\n",
    "Voici un petit exemple de ce que l'on peut récupérer au format json : "
   ]
  },
  {
   "cell_type": "code",
   "execution_count": 68,
   "metadata": {},
   "outputs": [
    {
     "name": "stdout",
     "output_type": "stream",
     "text": [
      "Status(_api=<tweepy.api.API object at 0x0000014F41A58CF8>, _json={'created_at': 'Mon Mar 16 15:00:41 +0000 2020', 'id': 1239567267312152576, 'id_str': '1239567267312152576', 'text': 'Everybody is so well unified and working so hard. It is a beautiful thing to see. They love our great Country. We w… https://t.co/7zIZw2Ykig', 'truncated': True, 'entities': {'hashtags': [], 'symbols': [], 'user_mentions': [], 'urls': [{'url': 'https://t.co/7zIZw2Ykig', 'expanded_url': 'https://twitter.com/i/web/status/1239567267312152576', 'display_url': 'twitter.com/i/web/status/1…', 'indices': [117, 140]}]}, 'source': '<a href=\"http://twitter.com/download/iphone\" rel=\"nofollow\">Twitter for iPhone</a>', 'in_reply_to_status_id': None, 'in_reply_to_status_id_str': None, 'in_reply_to_user_id': None, 'in_reply_to_user_id_str': None, 'in_reply_to_screen_name': None, 'user': {'id': 25073877, 'id_str': '25073877', 'name': 'Donald J. Trump', 'screen_name': 'realDonaldTrump', 'location': 'Washington, DC', 'description': '45th President of the United States of America🇺🇸', 'url': 'https://t.co/OMxB0x7xC5', 'entities': {'url': {'urls': [{'url': 'https://t.co/OMxB0x7xC5', 'expanded_url': 'http://www.Instagram.com/realDonaldTrump', 'display_url': 'Instagram.com/realDonaldTrump', 'indices': [0, 23]}]}, 'description': {'urls': []}}, 'protected': False, 'followers_count': 74065002, 'friends_count': 47, 'listed_count': 116523, 'created_at': 'Wed Mar 18 13:46:38 +0000 2009', 'favourites_count': 7, 'utc_offset': None, 'time_zone': None, 'geo_enabled': True, 'verified': True, 'statuses_count': 49820, 'lang': None, 'contributors_enabled': False, 'is_translator': False, 'is_translation_enabled': True, 'profile_background_color': '6D5C18', 'profile_background_image_url': 'http://abs.twimg.com/images/themes/theme1/bg.png', 'profile_background_image_url_https': 'https://abs.twimg.com/images/themes/theme1/bg.png', 'profile_background_tile': True, 'profile_image_url': 'http://pbs.twimg.com/profile_images/874276197357596672/kUuht00m_normal.jpg', 'profile_image_url_https': 'https://pbs.twimg.com/profile_images/874276197357596672/kUuht00m_normal.jpg', 'profile_banner_url': 'https://pbs.twimg.com/profile_banners/25073877/1583212785', 'profile_link_color': '1B95E0', 'profile_sidebar_border_color': 'BDDCAD', 'profile_sidebar_fill_color': 'C5CEC0', 'profile_text_color': '333333', 'profile_use_background_image': True, 'has_extended_profile': False, 'default_profile': False, 'default_profile_image': False, 'following': False, 'follow_request_sent': False, 'notifications': False, 'translator_type': 'regular'}, 'geo': None, 'coordinates': None, 'place': None, 'contributors': None, 'is_quote_status': False, 'retweet_count': 8650, 'favorite_count': 43886, 'favorited': False, 'retweeted': False, 'lang': 'en'}, created_at=datetime.datetime(2020, 3, 16, 15, 0, 41), id=1239567267312152576, id_str='1239567267312152576', text='Everybody is so well unified and working so hard. It is a beautiful thing to see. They love our great Country. We w… https://t.co/7zIZw2Ykig', truncated=True, entities={'hashtags': [], 'symbols': [], 'user_mentions': [], 'urls': [{'url': 'https://t.co/7zIZw2Ykig', 'expanded_url': 'https://twitter.com/i/web/status/1239567267312152576', 'display_url': 'twitter.com/i/web/status/1…', 'indices': [117, 140]}]}, source='Twitter for iPhone', source_url='http://twitter.com/download/iphone', in_reply_to_status_id=None, in_reply_to_status_id_str=None, in_reply_to_user_id=None, in_reply_to_user_id_str=None, in_reply_to_screen_name=None, author=User(_api=<tweepy.api.API object at 0x0000014F41A58CF8>, _json={'id': 25073877, 'id_str': '25073877', 'name': 'Donald J. Trump', 'screen_name': 'realDonaldTrump', 'location': 'Washington, DC', 'description': '45th President of the United States of America🇺🇸', 'url': 'https://t.co/OMxB0x7xC5', 'entities': {'url': {'urls': [{'url': 'https://t.co/OMxB0x7xC5', 'expanded_url': 'http://www.Instagram.com/realDonaldTrump', 'display_url': 'Instagram.com/realDonaldTrump', 'indices': [0, 23]}]}, 'description': {'urls': []}}, 'protected': False, 'followers_count': 74065002, 'friends_count': 47, 'listed_count': 116523, 'created_at': 'Wed Mar 18 13:46:38 +0000 2009', 'favourites_count': 7, 'utc_offset': None, 'time_zone': None, 'geo_enabled': True, 'verified': True, 'statuses_count': 49820, 'lang': None, 'contributors_enabled': False, 'is_translator': False, 'is_translation_enabled': True, 'profile_background_color': '6D5C18', 'profile_background_image_url': 'http://abs.twimg.com/images/themes/theme1/bg.png', 'profile_background_image_url_https': 'https://abs.twimg.com/images/themes/theme1/bg.png', 'profile_background_tile': True, 'profile_image_url': 'http://pbs.twimg.com/profile_images/874276197357596672/kUuht00m_normal.jpg', 'profile_image_url_https': 'https://pbs.twimg.com/profile_images/874276197357596672/kUuht00m_normal.jpg', 'profile_banner_url': 'https://pbs.twimg.com/profile_banners/25073877/1583212785', 'profile_link_color': '1B95E0', 'profile_sidebar_border_color': 'BDDCAD', 'profile_sidebar_fill_color': 'C5CEC0', 'profile_text_color': '333333', 'profile_use_background_image': True, 'has_extended_profile': False, 'default_profile': False, 'default_profile_image': False, 'following': False, 'follow_request_sent': False, 'notifications': False, 'translator_type': 'regular'}, id=25073877, id_str='25073877', name='Donald J. Trump', screen_name='realDonaldTrump', location='Washington, DC', description='45th President of the United States of America🇺🇸', url='https://t.co/OMxB0x7xC5', entities={'url': {'urls': [{'url': 'https://t.co/OMxB0x7xC5', 'expanded_url': 'http://www.Instagram.com/realDonaldTrump', 'display_url': 'Instagram.com/realDonaldTrump', 'indices': [0, 23]}]}, 'description': {'urls': []}}, protected=False, followers_count=74065002, friends_count=47, listed_count=116523, created_at=datetime.datetime(2009, 3, 18, 13, 46, 38), favourites_count=7, utc_offset=None, time_zone=None, geo_enabled=True, verified=True, statuses_count=49820, lang=None, contributors_enabled=False, is_translator=False, is_translation_enabled=True, profile_background_color='6D5C18', profile_background_image_url='http://abs.twimg.com/images/themes/theme1/bg.png', profile_background_image_url_https='https://abs.twimg.com/images/themes/theme1/bg.png', profile_background_tile=True, profile_image_url='http://pbs.twimg.com/profile_images/874276197357596672/kUuht00m_normal.jpg', profile_image_url_https='https://pbs.twimg.com/profile_images/874276197357596672/kUuht00m_normal.jpg', profile_banner_url='https://pbs.twimg.com/profile_banners/25073877/1583212785', profile_link_color='1B95E0', profile_sidebar_border_color='BDDCAD', profile_sidebar_fill_color='C5CEC0', profile_text_color='333333', profile_use_background_image=True, has_extended_profile=False, default_profile=False, default_profile_image=False, following=False, follow_request_sent=False, notifications=False, translator_type='regular'), user=User(_api=<tweepy.api.API object at 0x0000014F41A58CF8>, _json={'id': 25073877, 'id_str': '25073877', 'name': 'Donald J. Trump', 'screen_name': 'realDonaldTrump', 'location': 'Washington, DC', 'description': '45th President of the United States of America🇺🇸', 'url': 'https://t.co/OMxB0x7xC5', 'entities': {'url': {'urls': [{'url': 'https://t.co/OMxB0x7xC5', 'expanded_url': 'http://www.Instagram.com/realDonaldTrump', 'display_url': 'Instagram.com/realDonaldTrump', 'indices': [0, 23]}]}, 'description': {'urls': []}}, 'protected': False, 'followers_count': 74065002, 'friends_count': 47, 'listed_count': 116523, 'created_at': 'Wed Mar 18 13:46:38 +0000 2009', 'favourites_count': 7, 'utc_offset': None, 'time_zone': None, 'geo_enabled': True, 'verified': True, 'statuses_count': 49820, 'lang': None, 'contributors_enabled': False, 'is_translator': False, 'is_translation_enabled': True, 'profile_background_color': '6D5C18', 'profile_background_image_url': 'http://abs.twimg.com/images/themes/theme1/bg.png', 'profile_background_image_url_https': 'https://abs.twimg.com/images/themes/theme1/bg.png', 'profile_background_tile': True, 'profile_image_url': 'http://pbs.twimg.com/profile_images/874276197357596672/kUuht00m_normal.jpg', 'profile_image_url_https': 'https://pbs.twimg.com/profile_images/874276197357596672/kUuht00m_normal.jpg', 'profile_banner_url': 'https://pbs.twimg.com/profile_banners/25073877/1583212785', 'profile_link_color': '1B95E0', 'profile_sidebar_border_color': 'BDDCAD', 'profile_sidebar_fill_color': 'C5CEC0', 'profile_text_color': '333333', 'profile_use_background_image': True, 'has_extended_profile': False, 'default_profile': False, 'default_profile_image': False, 'following': False, 'follow_request_sent': False, 'notifications': False, 'translator_type': 'regular'}, id=25073877, id_str='25073877', name='Donald J. Trump', screen_name='realDonaldTrump', location='Washington, DC', description='45th President of the United States of America🇺🇸', url='https://t.co/OMxB0x7xC5', entities={'url': {'urls': [{'url': 'https://t.co/OMxB0x7xC5', 'expanded_url': 'http://www.Instagram.com/realDonaldTrump', 'display_url': 'Instagram.com/realDonaldTrump', 'indices': [0, 23]}]}, 'description': {'urls': []}}, protected=False, followers_count=74065002, friends_count=47, listed_count=116523, created_at=datetime.datetime(2009, 3, 18, 13, 46, 38), favourites_count=7, utc_offset=None, time_zone=None, geo_enabled=True, verified=True, statuses_count=49820, lang=None, contributors_enabled=False, is_translator=False, is_translation_enabled=True, profile_background_color='6D5C18', profile_background_image_url='http://abs.twimg.com/images/themes/theme1/bg.png', profile_background_image_url_https='https://abs.twimg.com/images/themes/theme1/bg.png', profile_background_tile=True, profile_image_url='http://pbs.twimg.com/profile_images/874276197357596672/kUuht00m_normal.jpg', profile_image_url_https='https://pbs.twimg.com/profile_images/874276197357596672/kUuht00m_normal.jpg', profile_banner_url='https://pbs.twimg.com/profile_banners/25073877/1583212785', profile_link_color='1B95E0', profile_sidebar_border_color='BDDCAD', profile_sidebar_fill_color='C5CEC0', profile_text_color='333333', profile_use_background_image=True, has_extended_profile=False, default_profile=False, default_profile_image=False, following=False, follow_request_sent=False, notifications=False, translator_type='regular'), geo=None, coordinates=None, place=None, contributors=None, is_quote_status=False, retweet_count=8650, favorite_count=43886, favorited=False, retweeted=False, lang='en')\n"
     ]
    }
   ],
   "source": [
    "# Get statuses\n",
    "for status in api.user_timeline(screen_name=\"realDonaldTrump\", count=1):\n",
    "    print(status)\n"
   ]
  },
  {
   "cell_type": "markdown",
   "metadata": {},
   "source": [
    "Et voici comment séléctionner les champs qui nous intéressent :"
   ]
  },
  {
   "cell_type": "code",
   "execution_count": 69,
   "metadata": {},
   "outputs": [
    {
     "name": "stdout",
     "output_type": "stream",
     "text": [
      "2020-03-16 15:00:41\n",
      "Donald J. Trump\n",
      "Everybody is so well unified and working so hard. It is a beautiful thing to see. They love our great Country. We w… https://t.co/7zIZw2Ykig\n"
     ]
    }
   ],
   "source": [
    "# Get statuses\n",
    "for status in api.user_timeline(screen_name=\"realDonaldTrump\", count=1):\n",
    "    print(status.created_at)\n",
    "    print(status.user.name)\n",
    "    print(status.text)"
   ]
  },
  {
   "cell_type": "markdown",
   "metadata": {},
   "source": [
    "Pour information, le champs texte est un champs tronqué. Pour obtenir le texte en entier il faut rajouter ce paramettre : <em>tweet_mode='extended'</em> et changer le nom de champs \"text\" qui n'existe plus, à \"full_text\".\n",
    "\n",
    "Voici le code :"
   ]
  },
  {
   "cell_type": "code",
   "execution_count": 70,
   "metadata": {},
   "outputs": [
    {
     "name": "stdout",
     "output_type": "stream",
     "text": [
      "2020-03-16 15:00:41\n",
      "Donald J. Trump\n",
      "Everybody is so well unified and working so hard. It is a beautiful thing to see. They love our great Country. We will end up being stronger than ever before!\n"
     ]
    }
   ],
   "source": [
    "# Get statuses\n",
    "for status in api.user_timeline(screen_name=\"realDonaldTrump\", count=1, tweet_mode='extended'):\n",
    "    print(status.created_at)\n",
    "    print(status.user.name)\n",
    "    print(status.full_text)"
   ]
  },
  {
   "cell_type": "markdown",
   "metadata": {},
   "source": [
    "#### B) Preparation et sauvegarde des données\n",
    "\n",
    "Pour des raison de reliabilitée des tests, il est utile de sauvegarder les tweets qui nous servirons de dataset.\n",
    "\n",
    "Il serait possible de sauvegarder directement l'enssemble des tweets récupérés avec cette commande :"
   ]
  },
  {
   "cell_type": "code",
   "execution_count": 71,
   "metadata": {},
   "outputs": [],
   "source": [
    "json.dump(status._json, codecs.open(u\"dataset.json\", 'wb', encoding='utf-8'))\n",
    "# json.dump(status._json, codecs.open(u\"dataset.p\", 'wb', encoding='utf-8'))"
   ]
  },
  {
   "cell_type": "markdown",
   "metadata": {},
   "source": [
    "Mais il me semble plus intéréssant de formatter les entrées pour ne contenir que le contenu qui pourrait nous intérésser.\n",
    "\n",
    "déterminons donc les champs qui pourrait nous intéresser :\n",
    "- created_at : Contient la date de création du tweet.\n",
    "- id : contient l'identifiant unique du tweet.\n",
    "- full_text : Contient le texte complet du tweet\n",
    "- display_text_range : contient les informations de taille du texte.\n",
    "- user : Contient les informations de l'utilisateur. Peut être reformaté pour être plus lisible :\n",
    "    - user.id\n",
    "    - user.name\n",
    "    - user.screen_name\n",
    "    - user.location\n",
    "    - user.description\n",
    "    - user.followers_count\n",
    "    - user.friends_count\n",
    "    - user.listed_count\n",
    "    - user.created_at\n",
    "    - user.statuses_count\n",
    "- is_quoted_status : Indique si le tweet est une réponse à un autre tweet.\n",
    "- quoted_status_id : Contient l'identifiant du tweet quoté.\n",
    "\n"
   ]
  },
  {
   "cell_type": "code",
   "execution_count": null,
   "metadata": {},
   "outputs": [],
   "source": []
  },
  {
   "cell_type": "markdown",
   "metadata": {},
   "source": [
    "### II) Utiliser Textblob\n",
    "\n",
    "#### A) Découvrir Textblob\n",
    "\n",
    "Nous allons commencer par explorer de manière basique quelques fonctions de Textblob :\n",
    "\n",
    "Premièrement, n'oublions pas d'effectuer les imports :"
   ]
  },
  {
   "cell_type": "code",
   "execution_count": 72,
   "metadata": {},
   "outputs": [],
   "source": [
    "from textblob import TextBlob"
   ]
  },
  {
   "cell_type": "markdown",
   "metadata": {},
   "source": [
    "Nous allons donc récupérer quelques tweets (5) et n'en conserver que le texte :"
   ]
  },
  {
   "cell_type": "code",
   "execution_count": 73,
   "metadata": {},
   "outputs": [
    {
     "name": "stdout",
     "output_type": "stream",
     "text": [
      "{'created_at': 'Mon Mar 16 15:00:41 +0000 2020', 'id': 1239567267312152576, 'id_str': '1239567267312152576', 'full_text': 'Everybody is so well unified and working so hard. It is a beautiful thing to see. They love our great Country. We will end up being stronger than ever before!', 'truncated': False, 'display_text_range': [0, 158], 'entities': {'hashtags': [], 'symbols': [], 'user_mentions': [], 'urls': []}, 'source': '<a href=\"http://twitter.com/download/iphone\" rel=\"nofollow\">Twitter for iPhone</a>', 'in_reply_to_status_id': None, 'in_reply_to_status_id_str': None, 'in_reply_to_user_id': None, 'in_reply_to_user_id_str': None, 'in_reply_to_screen_name': None, 'user': {'id': 25073877, 'id_str': '25073877', 'name': 'Donald J. Trump', 'screen_name': 'realDonaldTrump', 'location': 'Washington, DC', 'description': '45th President of the United States of America🇺🇸', 'url': 'https://t.co/OMxB0x7xC5', 'entities': {'url': {'urls': [{'url': 'https://t.co/OMxB0x7xC5', 'expanded_url': 'http://www.Instagram.com/realDonaldTrump', 'display_url': 'Instagram.com/realDonaldTrump', 'indices': [0, 23]}]}, 'description': {'urls': []}}, 'protected': False, 'followers_count': 74065028, 'friends_count': 47, 'listed_count': 116523, 'created_at': 'Wed Mar 18 13:46:38 +0000 2009', 'favourites_count': 7, 'utc_offset': None, 'time_zone': None, 'geo_enabled': True, 'verified': True, 'statuses_count': 49820, 'lang': None, 'contributors_enabled': False, 'is_translator': False, 'is_translation_enabled': True, 'profile_background_color': '6D5C18', 'profile_background_image_url': 'http://abs.twimg.com/images/themes/theme1/bg.png', 'profile_background_image_url_https': 'https://abs.twimg.com/images/themes/theme1/bg.png', 'profile_background_tile': True, 'profile_image_url': 'http://pbs.twimg.com/profile_images/874276197357596672/kUuht00m_normal.jpg', 'profile_image_url_https': 'https://pbs.twimg.com/profile_images/874276197357596672/kUuht00m_normal.jpg', 'profile_banner_url': 'https://pbs.twimg.com/profile_banners/25073877/1583212785', 'profile_link_color': '1B95E0', 'profile_sidebar_border_color': 'BDDCAD', 'profile_sidebar_fill_color': 'C5CEC0', 'profile_text_color': '333333', 'profile_use_background_image': True, 'has_extended_profile': False, 'default_profile': False, 'default_profile_image': False, 'following': False, 'follow_request_sent': False, 'notifications': False, 'translator_type': 'regular'}, 'geo': None, 'coordinates': None, 'place': None, 'contributors': None, 'is_quote_status': False, 'retweet_count': 8651, 'favorite_count': 43890, 'favorited': False, 'retweeted': False, 'lang': 'en'}\n"
     ]
    }
   ],
   "source": [
    "# Get statuses\n",
    "status = api.user_timeline(screen_name=\"realDonaldTrump\", count=5, tweet_mode='extended')\n",
    "# print(status)\n",
    "print(status[0]._json)\n",
    "#     print(status.created_at)\n",
    "#     print(status.user.name)\n",
    "#     print(status.full_text)"
   ]
  },
  {
   "cell_type": "markdown",
   "metadata": {},
   "source": [
    "Pour détailler chaques étapes, nous allons créer une variable temporaire ne contenant qu'une entrée :"
   ]
  },
  {
   "cell_type": "code",
   "execution_count": 74,
   "metadata": {},
   "outputs": [
    {
     "name": "stdout",
     "output_type": "stream",
     "text": [
      "Everybody is so well unified and working so hard. It is a beautiful thing to see. They love our great Country. We will end up being stronger than ever before!\n"
     ]
    }
   ],
   "source": [
    "entry = status[0]\n",
    "print(entry.full_text)"
   ]
  },
  {
   "cell_type": "markdown",
   "metadata": {},
   "source": [
    "Pour dire a textblob d'analyser le texte voici la commande :"
   ]
  },
  {
   "cell_type": "code",
   "execution_count": 75,
   "metadata": {},
   "outputs": [],
   "source": [
    "#Analyse de tweet\n",
    "tweet = TextBlob(entry.full_text)\n"
   ]
  },
  {
   "cell_type": "markdown",
   "metadata": {},
   "source": [
    "Depuis cet objet nous pouvons accéder à l'analyse de sentiments :"
   ]
  },
  {
   "cell_type": "code",
   "execution_count": 76,
   "metadata": {},
   "outputs": [
    {
     "data": {
      "text/plain": [
       "Sentiment(polarity=0.5145833333333334, subjectivity=0.7229166666666667)"
      ]
     },
     "execution_count": 76,
     "metadata": {},
     "output_type": "execute_result"
    }
   ],
   "source": [
    "tweet.sentiment"
   ]
  },
  {
   "cell_type": "markdown",
   "metadata": {},
   "source": [
    "Ainssi qu'à la détection de la langue :"
   ]
  },
  {
   "cell_type": "code",
   "execution_count": 77,
   "metadata": {},
   "outputs": [
    {
     "data": {
      "text/plain": [
       "'en'"
      ]
     },
     "execution_count": 77,
     "metadata": {},
     "output_type": "execute_result"
    }
   ],
   "source": [
    "tweet.detect_language()"
   ]
  },
  {
   "cell_type": "markdown",
   "metadata": {},
   "source": [
    "Et nous pouvons aussi traduire le texte :"
   ]
  },
  {
   "cell_type": "code",
   "execution_count": 78,
   "metadata": {},
   "outputs": [
    {
     "data": {
      "text/plain": [
       "TextBlob(\"Tout le monde est si bien unifié et travaille si dur. C'est une belle chose à voir. Ils aiment notre grand pays. Nous finirons par être plus forts que jamais!\")"
      ]
     },
     "execution_count": 78,
     "metadata": {},
     "output_type": "execute_result"
    }
   ],
   "source": [
    "tweet.translate(from_lang=\"en\", to=\"fr\")"
   ]
  },
  {
   "cell_type": "markdown",
   "metadata": {},
   "source": [
    "Il est aussi possible de Tokeniser la phrase comme ceci :"
   ]
  },
  {
   "cell_type": "code",
   "execution_count": 79,
   "metadata": {},
   "outputs": [
    {
     "name": "stdout",
     "output_type": "stream",
     "text": [
      "Tokens : ['Everybody', 'is', 'so', 'well', 'unified', 'and', 'working', 'so', 'hard', 'It', 'is', 'a', 'beautiful', 'thing', 'to', 'see', 'They', 'love', 'our', 'great', 'Country', 'We', 'will', 'end', 'up', 'being', 'stronger', 'than', 'ever', 'before']\n"
     ]
    }
   ],
   "source": [
    "print(\"Tokens : {}\".format(tweet.words))"
   ]
  },
  {
   "cell_type": "markdown",
   "metadata": {},
   "source": [
    "<strong>!! Attention</strong>, il est peut-être nécéssaire de télécharger un complément (le corpus semble-t-il de NLTK..) la commande devrait être suggérée dans le message d'erreur. Il suffit alors d'ouvrir un terminal et de l'executer"
   ]
  },
  {
   "cell_type": "markdown",
   "metadata": {},
   "source": [
    "Il est temps maintenant de rassembler ces possibilitées au sein d'une boucle et d'améliorer un peu l'affichage :"
   ]
  },
  {
   "cell_type": "code",
   "execution_count": 80,
   "metadata": {},
   "outputs": [
    {
     "name": "stdout",
     "output_type": "stream",
     "text": [
      "Everybody is so well unified and working so hard. It is a beautiful thing to see. They love our great Country. We will end up being stronger than ever before!\n",
      "Tokens : ['Everybody', 'is', 'so', 'well', 'unified', 'and', 'working', 'so', 'hard', 'It', 'is', 'a', 'beautiful', 'thing', 'to', 'see', 'They', 'love', 'our', 'great', 'Country', 'We', 'will', 'end', 'up', 'being', 'stronger', 'than', 'ever', 'before']\n",
      "Polarity 0.51, Subjectivity 0.72\n",
      "Language : en\n",
      "French : Tout le monde est si bien unifié et travaille si dur. C'est une belle chose à voir. Ils aiment notre grand pays. Nous finirons par être plus forts que jamais!\n",
      "\n",
      "God Bless the USA!\n",
      "Tokens : ['God', 'Bless', 'the', 'USA']\n",
      "Polarity 0.00, Subjectivity 0.00\n",
      "Language : en\n",
      "French : Que Dieu bénisse les USA!\n",
      "\n",
      "RT @parscale: Joe Biden is a train wreck on illegal immigration and would harm national security.\n",
      "\n",
      "He’d have ZERO deportations for the firs…\n",
      "Tokens : ['RT', 'parscale', 'Joe', 'Biden', 'is', 'a', 'train', 'wreck', 'on', 'illegal', 'immigration', 'and', 'would', 'harm', 'national', 'security', 'He', '’', 'd', 'have', 'ZERO', 'deportations', 'for', 'the', 'firs…']\n",
      "Polarity -0.50, Subjectivity 0.50\n",
      "Language : en\n",
      "French : RT @parscale: Joe Biden est une épave de train sur l'immigration illégale et nuirait à la sécurité nationale.\n",
      "\n",
      "Il aurait ZÉRO déportations pour les premiers…\n",
      "\n",
      "RT @TimMurtaugh: Joe Biden would set an extreme and dangerous course on illegal immigration.\n",
      "\n",
      "Wouldn’t deport anyone except convicted felon…\n",
      "Tokens : ['RT', 'TimMurtaugh', 'Joe', 'Biden', 'would', 'set', 'an', 'extreme', 'and', 'dangerous', 'course', 'on', 'illegal', 'immigration', 'Wouldn', '’', 't', 'deport', 'anyone', 'except', 'convicted', 'felon…']\n",
      "Polarity -0.41, Subjectivity 0.80\n",
      "Language : en\n",
      "French : RT @ TimMurtaugh: Joe Biden fixerait un cap extrême et dangereux sur l'immigration illégale.\n",
      "\n",
      "N'expulserait personne, sauf un criminel condamné…\n",
      "\n",
      "RT @kayleighmcenany: Sleepy Joe is SO CONFUSED. Joe has...\n",
      "\n",
      "- Called the coronavirus “SARS”\n",
      "\n",
      "- Called the coronavirus the “swine flu”\n",
      "\n",
      "- Ca…\n",
      "Tokens : ['RT', 'kayleighmcenany', 'Sleepy', 'Joe', 'is', 'SO', 'CONFUSED', 'Joe', 'has', 'Called', 'the', 'coronavirus', '“', 'SARS', '”', 'Called', 'the', 'coronavirus', 'the', '“', 'swine', 'flu', '”', 'Ca…']\n",
      "Polarity -0.40, Subjectivity 0.70\n",
      "Language : en\n",
      "French : RT @kayleighmcenany: Sleepy Joe est tellement confus. Joe a ...\n",
      "\n",
      "- Appelé le coronavirus «SRAS»\n",
      "\n",
      "- Appelé le coronavirus la «grippe porcine»\n",
      "\n",
      "- Californie…\n",
      "\n"
     ]
    }
   ],
   "source": [
    "for entry in status :\n",
    "    tweet = TextBlob(entry.full_text)\n",
    "    print(tweet)\n",
    "    print(\"Tokens : {}\".format(tweet.words))\n",
    "    print(\"Polarity %.2f, Subjectivity %.2f\" % (tweet.sentiment.polarity, tweet.sentiment.subjectivity))\n",
    "    print(\"Language : {}\".format(tweet.detect_language()))\n",
    "    try:\n",
    "        print(\"French : {}\".format(tweet.translate(from_lang=\"en-US\", to='fr')))\n",
    "    except textblob.exceptions.NotTranslated:\n",
    "        pass\n",
    "    # end try\n",
    "    print()"
   ]
  },
  {
   "cell_type": "code",
   "execution_count": null,
   "metadata": {},
   "outputs": [],
   "source": []
  }
 ],
 "metadata": {
  "kernelspec": {
   "display_name": "Python 3",
   "language": "python",
   "name": "python3"
  },
  "language_info": {
   "codemirror_mode": {
    "name": "ipython",
    "version": 3
   },
   "file_extension": ".py",
   "mimetype": "text/x-python",
   "name": "python",
   "nbconvert_exporter": "python",
   "pygments_lexer": "ipython3",
   "version": "3.6.3"
  }
 },
 "nbformat": 4,
 "nbformat_minor": 2
}
